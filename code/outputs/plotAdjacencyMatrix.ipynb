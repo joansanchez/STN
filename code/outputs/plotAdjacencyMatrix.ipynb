{
 "cells": [
  {
   "cell_type": "code",
   "execution_count": 220,
   "metadata": {},
   "outputs": [],
   "source": [
    "import networkx as nx\n",
    "import matplotlib.pyplot as plt\n",
    "import numpy as np\n",
    "import graphviz as gx\n",
    "%matplotlib inline"
   ]
  },
  {
   "cell_type": "code",
   "execution_count": 221,
   "metadata": {},
   "outputs": [],
   "source": [
    "g = nx.Graph()"
   ]
  },
  {
   "cell_type": "code",
   "execution_count": 222,
   "metadata": {},
   "outputs": [],
   "source": [
    "filepath = 'NodeCoordinates.txt'  \n",
    "with open(filepath) as fp:\n",
    "    line = fp.readline()\n",
    "    pos = {}\n",
    "    node_list = []\n",
    "    while line:\n",
    "        new_line = line.strip().split(\" \")\n",
    "        node_list.append(new_line[0])\n",
    "        pos[new_line[0]] = (int(new_line[1]), int(new_line[2]))\n",
    "        line = fp.readline()"
   ]
  },
  {
   "cell_type": "code",
   "execution_count": 223,
   "metadata": {},
   "outputs": [],
   "source": [
    "filepath = 'AdjacencyMatrix.txt'  \n",
    "with open(filepath) as fp:  \n",
    "    line = fp.readline()\n",
    "    while line:\n",
    "        new_line = line.strip().split(\"\\t\")\n",
    "        if len(new_line)>1:\n",
    "            adjacency = new_line[1].strip().split(\" \")\n",
    "            i = 0\n",
    "            while i < len(adjacency):\n",
    "                g.add_edge(new_line[0], adjacency[i])\n",
    "                i +=1\n",
    "        line = fp.readline()"
   ]
  },
  {
   "cell_type": "code",
   "execution_count": 224,
   "metadata": {},
   "outputs": [
    {
     "data": {
      "text/plain": [
       "5"
      ]
     },
     "execution_count": 224,
     "metadata": {},
     "output_type": "execute_result"
    }
   ],
   "source": [
    "g.number_of_nodes()"
   ]
  },
  {
   "cell_type": "code",
   "execution_count": 225,
   "metadata": {
    "scrolled": true
   },
   "outputs": [
    {
     "data": {
      "text/plain": [
       "6"
      ]
     },
     "execution_count": 225,
     "metadata": {},
     "output_type": "execute_result"
    }
   ],
   "source": [
    "g.number_of_edges()"
   ]
  },
  {
   "cell_type": "code",
   "execution_count": 227,
   "metadata": {},
   "outputs": [
    {
     "data": {
      "image/png": "[encoded data removed]",
      "text/plain": [
       "<Figure size 432x288 with 1 Axes>"
      ]
     },
     "metadata": {
      "needs_background": "light"
     },
     "output_type": "display_data"
    }
   ],
   "source": [
    "nx.draw_networkx(g,pos,node_size=30,nodelist=node_list,node_color='r', with_labels=False)\n"
   ]
  },
  {
   "cell_type": "code",
   "execution_count": null,
   "metadata": {},
   "outputs": [],
   "source": [
    "pos = {1: (20, 30), 2: (40, 30), 3: (30, 10)}\n",
    "pos[0] =(60,20)\n",
    "X=nx.Graph()\n",
    "node_list = [0,2,3]\n",
    "node_list.append(1)\n",
    "#X.add_edge(0,1)\n",
    "nx.draw_networkx(X,pos,node_size=30,nodelist=node_list,node_color='r', with_labels=False)"
   ]
  },
  {
   "cell_type": "code",
   "execution_count": null,
   "metadata": {},
   "outputs": [],
   "source": []
  }
 ],
 "metadata": {
  "kernelspec": {
   "display_name": "Python 3",
   "language": "python",
   "name": "python3"
  },
  "language_info": {
   "codemirror_mode": {
    "name": "ipython",
    "version": 3
   },
   "file_extension": ".py",
   "mimetype": "text/x-python",
   "name": "python",
   "nbconvert_exporter": "python",
   "pygments_lexer": "ipython3",
   "version": "3.7.0"
  }
 },
 "nbformat": 4,
 "nbformat_minor": 1
}
