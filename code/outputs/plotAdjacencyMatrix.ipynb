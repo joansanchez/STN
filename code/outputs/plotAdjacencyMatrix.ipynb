{
 "cells": [
  {
   "cell_type": "code",
   "execution_count": null,
   "metadata": {},
   "outputs": [],
   "source": [
    "#This project has been written in c++. \n",
    "#Jupyter notebook is used to plot the results. \n",
    "#The code is available at https://github.com/joansanchez/STN"
   ]
  },
  {
   "cell_type": "code",
   "execution_count": null,
   "metadata": {},
   "outputs": [],
   "source": [
    "import networkx as nx\n",
    "import matplotlib.pyplot as plt\n",
    "#import numpy as np\n",
    "%matplotlib inline"
   ]
  },
  {
   "cell_type": "code",
   "execution_count": null,
   "metadata": {},
   "outputs": [],
   "source": [
    "g = nx.Graph()"
   ]
  },
  {
   "cell_type": "code",
   "execution_count": null,
   "metadata": {},
   "outputs": [],
   "source": [
    "#The first thing we do is to load the nodes of the graph.\n",
    "filepath = 'NodeCoordinates.txt'  \n",
    "with open(filepath) as fp:\n",
    "    line = fp.readline()\n",
    "    pos = {}\n",
    "    node_list = []\n",
    "    while line:\n",
    "        new_line = line.strip().split(\" \")\n",
    "        node_list.append(new_line[0])\n",
    "        pos[new_line[0]] = (int(new_line[1]), int(new_line[2]))\n",
    "        line = fp.readline()"
   ]
  },
  {
   "cell_type": "code",
   "execution_count": null,
   "metadata": {},
   "outputs": [],
   "source": [
    "#And we draw the graph with which we are going to work.\n",
    "nx.draw_networkx_nodes(g,pos,node_size=10,nodelist=node_list, with_labels=False)\n"
   ]
  },
  {
   "cell_type": "code",
   "execution_count": null,
   "metadata": {},
   "outputs": [],
   "source": [
    "#We apply k-means algorithm to see the final communities of the graph (implementation of the k-means algorithm in c++)\n",
    "filepath = 'NodeColors.txt'  \n",
    "with open(filepath) as fp:\n",
    "    line = fp.readline()\n",
    "    color_map = []\n",
    "    while line:\n",
    "        new_line = line.strip().split(\" \")\n",
    "        color_map.append(new_line[1])\n",
    "        line = fp.readline()"
   ]
  },
  {
   "cell_type": "code",
   "execution_count": null,
   "metadata": {},
   "outputs": [],
   "source": [
    "#And we color the nodes according to the community to which they belong\n",
    "nx.draw_networkx_nodes(g,pos, node_color = color_map, node_size=10,nodelist=node_list, with_labels=False)"
   ]
  },
  {
   "cell_type": "code",
   "execution_count": null,
   "metadata": {},
   "outputs": [],
   "source": [
    "#Now we draw the validator nodes in gold.\n",
    "filepath = 'NodeCenters.txt'  \n",
    "with open(filepath) as fp:\n",
    "    line = fp.readline()\n",
    "    while line:\n",
    "        new_line = line.strip().split(\" \")\n",
    "        tmpString = new_line[0]\n",
    "        if (tmpString[0] == 'i'):\n",
    "            node_list.append(new_line[0])\n",
    "            pos[new_line[0]] = (int(new_line[1]), int(new_line[2]))\n",
    "            color_map.append('gold')\n",
    "        line = fp.readline()\n"
   ]
  },
  {
   "cell_type": "code",
   "execution_count": null,
   "metadata": {},
   "outputs": [],
   "source": [
    "nx.draw_networkx(g,pos, node_color = color_map, node_size=10,nodelist=node_list, with_labels=False)\n"
   ]
  },
  {
   "cell_type": "code",
   "execution_count": null,
   "metadata": {},
   "outputs": [],
   "source": [
    "#We now compare the position and distance between the nodes with more adjacencies within a \n",
    "#community (fuchsia) and those that the validator gives us (gold)\n",
    "filepath = 'NodeCentersByAdjacncy.txt'  \n",
    "with open(filepath) as fp:\n",
    "    line = fp.readline()\n",
    "    while line:\n",
    "        new_line = line.strip().split(\" \")\n",
    "        tmpString = new_line[0]\n",
    "        if (tmpString[0] == 'i') or (tmpString[0] == 'a'):\n",
    "            node_list.append(new_line[0])\n",
    "            pos[new_line[0]] = (int(new_line[1]), int(new_line[2]))\n",
    "            if tmpString[0] == 'i':\n",
    "                color_map.append('gold')\n",
    "            elif tmpString[0] == 'a':\n",
    "                color_map.append('fuchsia')\n",
    "                g.add_edge('infl'+tmpString[4], tmpString)\n",
    "        else:\n",
    "            print (line)\n",
    "        line = fp.readline()"
   ]
  },
  {
   "cell_type": "code",
   "execution_count": null,
   "metadata": {},
   "outputs": [],
   "source": [
    "#Above, the distances between the node with more adjacencies and the validator nodes\n",
    "#Below, the representation of the communities\n",
    "nx.draw_networkx(g,pos, node_color = color_map, node_size=10,nodelist=node_list, with_labels=False)"
   ]
  },
  {
   "cell_type": "code",
   "execution_count": null,
   "metadata": {},
   "outputs": [],
   "source": [
    "#We now compare the position and distance between the nodes with more pageRank within a \n",
    "#community (black) whith the nodes with more adyacencies (fuchsia) and those that the validator gives us (gold)\n",
    "filepath = 'NodeCentersByPageRank.txt'  \n",
    "with open(filepath) as fp:\n",
    "    line = fp.readline()\n",
    "    while line:\n",
    "        new_line = line.strip().split(\" \")\n",
    "        tmpString = new_line[0]\n",
    "        if (tmpString[0] == 'r'):\n",
    "            node_list.append(new_line[0])\n",
    "            pos[new_line[0]] = (int(new_line[1]), int(new_line[2]))\n",
    "            color_map.append('black')\n",
    "            g.add_edge('infl'+tmpString[4], tmpString)\n",
    "        elif (tmpString[0] != 'i'):\n",
    "            print (line)\n",
    "        line = fp.readline()"
   ]
  },
  {
   "cell_type": "code",
   "execution_count": null,
   "metadata": {},
   "outputs": [],
   "source": [
    "#Above, the distances between the node with more PageRank and the validator nodes\n",
    "#Below, the representation of the communities\n",
    "nx.draw_networkx(g,pos, node_color = color_map, node_size=10,nodelist=node_list, with_labels=False)"
   ]
  },
  {
   "cell_type": "code",
   "execution_count": null,
   "metadata": {},
   "outputs": [],
   "source": [
    "#As a curiosity, we can also load all the edges\n",
    "filepath = 'AdjacencyMatrix.txt'  \n",
    "with open(filepath) as fp:  \n",
    "    line = fp.readline()\n",
    "    while line:\n",
    "        new_line = line.strip().split(\"\\t\")\n",
    "        if len(new_line)>1:\n",
    "            adjacency = new_line[1].strip().split(\" \")\n",
    "            i = 0\n",
    "            while i < len(adjacency):\n",
    "                g.add_edge(new_line[0], adjacency[i])\n",
    "                i +=1\n",
    "        line = fp.readline()"
   ]
  },
  {
   "cell_type": "code",
   "execution_count": null,
   "metadata": {},
   "outputs": [],
   "source": [
    "#As the graph is highly connected, we won't be able to appreciate clearly the edges.\n",
    "nx.draw_networkx(g,pos,node_size=10,nodelist=node_list,node_color=color_map, with_labels=False)"
   ]
  },
  {
   "cell_type": "code",
   "execution_count": null,
   "metadata": {},
   "outputs": [],
   "source": [
    "g.number_of_nodes()"
   ]
  },
  {
   "cell_type": "code",
   "execution_count": null,
   "metadata": {},
   "outputs": [],
   "source": [
    "g.number_of_edges()"
   ]
  }
 ],
 "metadata": {
  "kernelspec": {
   "display_name": "Python 3",
   "language": "python",
   "name": "python3"
  },
  "language_info": {
   "codemirror_mode": {
    "name": "ipython",
    "version": 3
   },
   "file_extension": ".py",
   "mimetype": "text/x-python",
   "name": "python",
   "nbconvert_exporter": "python",
   "pygments_lexer": "ipython3",
   "version": "3.7.0"
  }
 },
 "nbformat": 4,
 "nbformat_minor": 1
}
