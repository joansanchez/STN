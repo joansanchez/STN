{
 "cells": [
  {
   "cell_type": "code",
   "execution_count": null,
   "metadata": {},
   "outputs": [],
   "source": [
    "import networkx as nx\n",
    "import matplotlib.pyplot as plt\n",
    "import numpy as np\n",
    "%matplotlib inline"
   ]
  },
  {
   "cell_type": "code",
   "execution_count": null,
   "metadata": {},
   "outputs": [],
   "source": [
    "g = nx.Graph()"
   ]
  },
  {
   "cell_type": "code",
   "execution_count": null,
   "metadata": {},
   "outputs": [],
   "source": [
    "#loading nodes \n",
    "filepath = 'NodeCoordinates.txt'  \n",
    "with open(filepath) as fp:\n",
    "    line = fp.readline()\n",
    "    pos = {}\n",
    "    node_list = []\n",
    "    while line:\n",
    "        new_line = line.strip().split(\" \")\n",
    "        node_list.append(new_line[0])\n",
    "        pos[new_line[0]] = (int(new_line[1]), int(new_line[2]))\n",
    "        line = fp.readline()"
   ]
  },
  {
   "cell_type": "code",
   "execution_count": null,
   "metadata": {},
   "outputs": [],
   "source": [
    "g.number_of_nodes()"
   ]
  },
  {
   "cell_type": "code",
   "execution_count": null,
   "metadata": {
    "scrolled": true
   },
   "outputs": [],
   "source": [
    "g.number_of_edges()"
   ]
  },
  {
   "cell_type": "code",
   "execution_count": null,
   "metadata": {},
   "outputs": [],
   "source": [
    "#draw only the edges of the graph\n",
    "nx.draw_networkx_nodes(g,pos,node_size=10,nodelist=node_list, with_labels=False)\n"
   ]
  },
  {
   "cell_type": "code",
   "execution_count": null,
   "metadata": {},
   "outputs": [],
   "source": [
    "#loading result of k-means algorithm \n",
    "filepath = 'NodeColors.txt'  \n",
    "with open(filepath) as fp:\n",
    "    line = fp.readline()\n",
    "    color_map = []\n",
    "    while line:\n",
    "        new_line = line.strip().split(\" \")\n",
    "        color_map.append(new_line[1])\n",
    "        line = fp.readline()"
   ]
  },
  {
   "cell_type": "code",
   "execution_count": null,
   "metadata": {},
   "outputs": [],
   "source": [
    "#color the final comunities of the graph\n",
    "nx.draw_networkx_nodes(g,pos, node_color = color_map, node_size=10,nodelist=node_list, with_labels=False)"
   ]
  },
  {
   "cell_type": "code",
   "execution_count": null,
   "metadata": {},
   "outputs": [],
   "source": [
    "#ploting the communities centers in black and node with most influence within the community\n",
    "filepath = 'NodeCenters.txt'  \n",
    "with open(filepath) as fp:\n",
    "    line = fp.readline()\n",
    "    while line:\n",
    "        new_line = line.strip().split(\" \")\n",
    "        node_list.append(new_line[0])\n",
    "        pos[new_line[0]] = (int(new_line[1]), int(new_line[2]))\n",
    "        tmpString = new_line[0]\n",
    "        if tmpString[0] == 'c':\n",
    "            color_map.append('black')\n",
    "        else:\n",
    "            color_map.append('gold')\n",
    "            g.add_edge('cent'+tmpString[4], tmpString)\n",
    "        line = fp.readline()"
   ]
  },
  {
   "cell_type": "code",
   "execution_count": null,
   "metadata": {},
   "outputs": [],
   "source": [
    "nx.draw_networkx(g,pos, node_color = color_map, node_size=10,nodelist=node_list, with_labels=False)"
   ]
  },
  {
   "cell_type": "code",
   "execution_count": null,
   "metadata": {},
   "outputs": [],
   "source": [
    "#loading edges\n",
    "filepath = 'AdjacencyMatrix.txt'  \n",
    "with open(filepath) as fp:  \n",
    "    line = fp.readline()\n",
    "    while line:\n",
    "        new_line = line.strip().split(\"\\t\")\n",
    "        if len(new_line)>1:\n",
    "            adjacency = new_line[1].strip().split(\" \")\n",
    "            i = 0\n",
    "            while i < len(adjacency):\n",
    "                g.add_edge(new_line[0], adjacency[i])\n",
    "                i +=1\n",
    "        line = fp.readline()"
   ]
  },
  {
   "cell_type": "code",
   "execution_count": null,
   "metadata": {},
   "outputs": [],
   "source": [
    "#As the graph is highly connected, we won't be able to appreciate clearly the edges.\n",
    "nx.draw_networkx(g,pos,node_size=10,nodelist=node_list,node_color='r', with_labels=False)"
   ]
  }
 ],
 "metadata": {
  "kernelspec": {
   "display_name": "Python 3",
   "language": "python",
   "name": "python3"
  },
  "language_info": {
   "codemirror_mode": {
    "name": "ipython",
    "version": 3
   },
   "file_extension": ".py",
   "mimetype": "text/x-python",
   "name": "python",
   "nbconvert_exporter": "python",
   "pygments_lexer": "ipython3",
   "version": "3.7.0"
  }
 },
 "nbformat": 4,
 "nbformat_minor": 1
}
